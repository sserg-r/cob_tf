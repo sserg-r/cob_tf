{
 "cells": [
  {
   "cell_type": "code",
   "execution_count": 1,
   "metadata": {},
   "outputs": [],
   "source": [
    "import tensorflow as tf\n",
    "physical_devices = tf.config.experimental.list_physical_devices('GPU')\n",
    "tf.config.experimental.set_memory_growth(physical_devices[0], True)"
   ]
  },
  {
   "cell_type": "code",
   "execution_count": 4,
   "metadata": {},
   "outputs": [],
   "source": [
    "from tensorflow.keras.layers import Add, BatchNormalization, Conv2D, Conv2DTranspose, Dense, Flatten, Input, LeakyReLU, PReLU, Lambda, MaxPool2D, ReLU\n",
    "from tensorflow.keras.models import Model\n",
    "from tensorflow.keras import layers\n"
   ]
  },
  {
   "cell_type": "code",
   "execution_count": 209,
   "metadata": {},
   "outputs": [],
   "source": [
    "def res_block_simple(inp, stage, substage):    \n",
    "    filters=inp.shape.as_list()[-1]//4\n",
    "    conv=Conv2D(filters, 1, activation='relu', use_bias=False, name='res{0}{1}_branch2a'.format(stage, substage))(inp)   \n",
    "    conv=Conv2D(filters, 3, padding='same', activation='relu', use_bias=False, name='res{0}{1}_branch2b'.format(stage, substage))(conv)\n",
    "    conv=Conv2D(filters*4, 1, activation='relu', use_bias=False, name='res{0}{1}_branch2c'.format(stage, substage))(conv)    \n",
    "    add=Add(name='res{0}{1}_'.format(stage, substage))([inp, conv])\n",
    "    return ReLU(name='res{0}{1}'.format(stage, substage))(add)\n",
    "\n",
    "def res_block_ext(inp, stage):    \n",
    "    filters=inp.shape.as_list()[-1]//2\n",
    "    strds=(2,2)\n",
    "    if filters==32:\n",
    "        filters=filters*2\n",
    "        strds=(1,1)        \n",
    "    conv=Conv2D(filters, 1, strides=strds, activation='relu', use_bias=False, name='res{0}a_branch2a'.format(stage))(inp)    \n",
    "    conv=Conv2D(filters, 3, padding='same', activation='relu', use_bias=False, name='res{0}a_branch2b'.format(stage))(conv)     \n",
    "    conv=Conv2D(filters*4, 1, use_bias=False, name='res{0}a_branch2c'.format(stage))(conv)    \n",
    "    inp1=Conv2D(filters*4, 1, strides=strds, use_bias=False, name='res{0}a_branch1'.format(stage))(inp)    \n",
    "    \n",
    "    add=Add(name='res{0}a_'.format(stage))([conv,inp1])\n",
    "    return ReLU(name='res{0}a'.format(stage))(add)\n",
    "\n",
    "def get_res50(inp_shape=(500,500,3)):\n",
    "    inp=Input(shape=inp_shape)\n",
    "    conv=Conv2D(64, 7, padding='same', activation='relu', name='conv1')(inp)    \n",
    "    out=MaxPool2D(strides=2, name='pool1')(conv)    \n",
    "    outputs=[conv]\n",
    "    \n",
    "    for num, blocks in enumerate([2,3,5,2]):\n",
    "        stage=num+2\n",
    "        out=res_block_ext(out, stage)\n",
    "        for substage in 'bcdef'[:blocks]:\n",
    "            out=res_block_simple(out, stage, substage)\n",
    "        outputs.append(out)\n",
    "    return Model(inputs=inp,outputs=outputs)"
   ]
  },
  {
   "cell_type": "code",
   "execution_count": null,
   "metadata": {},
   "outputs": [],
   "source": [
    "mod=get_res50()\n",
    "for lr in mod.weights:\n",
    "    print('{0:20} {1}'.format(lr.name.split('/')[0], lr.shape))"
   ]
  },
  {
   "cell_type": "code",
   "execution_count": null,
   "metadata": {},
   "outputs": [],
   "source": [
    "dot_img_file = 'res50_model.png'\n",
    "tf.keras.utils.plot_model(mod, to_file=dot_img_file, show_shapes=True)"
   ]
  },
  {
   "cell_type": "code",
   "execution_count": 9,
   "metadata": {},
   "outputs": [
    {
     "data": {
      "text/plain": [
       "[<tf.Tensor 'conv1_1/Identity:0' shape=(None, 500, 500, 64) dtype=float32>,\n",
       " <tf.Tensor 'res2c_1/Identity:0' shape=(None, 250, 250, 256) dtype=float32>,\n",
       " <tf.Tensor 'res3d_1/Identity:0' shape=(None, 125, 125, 512) dtype=float32>,\n",
       " <tf.Tensor 'res4f_1/Identity:0' shape=(None, 63, 63, 1024) dtype=float32>,\n",
       " <tf.Tensor 'res5c_1/Identity:0' shape=(None, 32, 32, 2048) dtype=float32>]"
      ]
     },
     "execution_count": 9,
     "metadata": {},
     "output_type": "execute_result"
    }
   ],
   "source": [
    "mod.output"
   ]
  },
  {
   "cell_type": "code",
   "execution_count": null,
   "metadata": {},
   "outputs": [],
   "source": []
  },
  {
   "cell_type": "code",
   "execution_count": 208,
   "metadata": {},
   "outputs": [],
   "source": [
    "# crop like-caffe layer \n",
    "class Crop(layers.Layer):\n",
    "    \"\"\"centerred cropping of target layer by dimensions of template layer \n",
    "    EXAMPLE:\n",
    "    cropped_lr=Crop(templ, name='cropped_layer')(target)\n",
    "    \"\"\"\n",
    "    def __init__(self, templ, **kwargs):\n",
    "        super(Crop, self).__init__(**kwargs)\n",
    "        self.out_sh = tf.shape(templ)\n",
    "      \n",
    "\n",
    "    def call(self, x, trainable=False):\n",
    "        self.total=tf.zeros(self.out_sh)\n",
    "        x_shape = tf.shape(x)\n",
    "        \n",
    "        offsets = [0, (x_shape[1] - self.out_sh[1]) // 2, (x_shape[2] - self.out_sh[2]) // 2, 0]\n",
    "        size = [-1, self.out_sh[1], self.out_sh[2], self.out_sh[3]]\n",
    "        x_crop = tf.slice(x, offsets, size)\n",
    "        self.total+=x_crop\n",
    "        return self.total \n"
   ]
  },
  {
   "cell_type": "markdown",
   "metadata": {},
   "source": [
    "# test of cropp layer"
   ]
  },
  {
   "cell_type": "code",
   "execution_count": 194,
   "metadata": {},
   "outputs": [],
   "source": [
    "inp=Input(shape=(500,500,3))\n",
    "con=Conv2DTranspose(3,2,(2,2))(inp)\n",
    "cr=Crop(inp, name='crop_002')(con)\n",
    "mod=Model(inp,[con,cr])\n",
    "mod.summary()"
   ]
  },
  {
   "cell_type": "code",
   "execution_count": null,
   "metadata": {},
   "outputs": [],
   "source": [
    "from matplotlib import pyplot as plt\n",
    "import numpy as np\n",
    "\n",
    "test=np.random.rand(1,500,500,3)\n",
    "yy=mod.predict(test)\n",
    "\n",
    "plt.figure(figsize=(20,10))\n",
    "\n",
    "import matplotlib.pyplot as plt\n",
    "for num, im in enumerate(yy):\n",
    "    plt.subplot(1,3,num+1)\n",
    "    plt.imshow(im[0])\n",
    "plt.subplot(1,3,3)\n",
    "plt.imshow(yy[0][0][250:-250,250:-250,:])\n",
    "dif=np.sum(yy[0][0][250:-250,250:-250,:]-yy[1][0])\n",
    "plt.title('differense is: {}, crop is valid: {}'.format(dif, dif==0))\n"
   ]
  },
  {
   "cell_type": "code",
   "execution_count": null,
   "metadata": {},
   "outputs": [],
   "source": []
  },
  {
   "cell_type": "markdown",
   "metadata": {},
   "source": [
    "# Caffe section"
   ]
  },
  {
   "cell_type": "code",
   "execution_count": null,
   "metadata": {
    "jupyter": {
     "source_hidden": true
    }
   },
   "outputs": [],
   "source": [
    "import caffe\n",
    "import numpy as np\n",
    "from PIL import Image\n",
    "base=r'/home/sgr/COB/models'\n",
    "PRETRAINED = '{0}/COB_PASCALContext_trainval.caffemodel'.format(base)\n",
    "MODEL_FILE = '{0}/deploy.prototxt'.format(base)\n",
    "\n",
    "img = np.asarray(Image.open(r'/home/sgr/Загрузки/COB/demos/2010_005731.png'))\n",
    "\n",
    "net = caffe.Net(MODEL_FILE, PRETRAINED, caffe.TEST)\n",
    "caffe.set_mode_cpu()\n",
    "\n",
    "counter=0\n",
    "for key in net.params:    \n",
    "    num=net.params[key].__len__()\n",
    "    out='{0:22}#{1:2}'.format(key, num)\n",
    "    \n",
    "    for i in range(num):\n",
    "        sh=net.params[key][i].data[...].shape\n",
    "#         out='{0}; {1:3} shape:{2:25}'.format(out, i, sh)\n",
    "        out='{0};\\t{1}: shape:{2:20}'.format(out, i+1, str(sh))\n",
    "    counter+=1\n",
    "    print(out)\n",
    "print('Total params layer: '+str(counter))"
   ]
  },
  {
   "cell_type": "code",
   "execution_count": null,
   "metadata": {},
   "outputs": [],
   "source": []
  },
  {
   "cell_type": "code",
   "execution_count": null,
   "metadata": {},
   "outputs": [],
   "source": []
  },
  {
   "cell_type": "code",
   "execution_count": null,
   "metadata": {},
   "outputs": [],
   "source": []
  },
  {
   "cell_type": "code",
   "execution_count": null,
   "metadata": {},
   "outputs": [],
   "source": []
  },
  {
   "cell_type": "code",
   "execution_count": null,
   "metadata": {},
   "outputs": [],
   "source": []
  },
  {
   "cell_type": "code",
   "execution_count": null,
   "metadata": {},
   "outputs": [],
   "source": []
  },
  {
   "cell_type": "code",
   "execution_count": null,
   "metadata": {},
   "outputs": [],
   "source": []
  }
 ],
 "metadata": {
  "kernelspec": {
   "display_name": "Python 3",
   "language": "python",
   "name": "python3"
  },
  "language_info": {
   "codemirror_mode": {
    "name": "ipython",
    "version": 3
   },
   "file_extension": ".py",
   "mimetype": "text/x-python",
   "name": "python",
   "nbconvert_exporter": "python",
   "pygments_lexer": "ipython3",
   "version": "3.7.0"
  }
 },
 "nbformat": 4,
 "nbformat_minor": 4
}
