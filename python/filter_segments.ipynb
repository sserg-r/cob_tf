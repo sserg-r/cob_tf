{
 "cells": [
  {
   "cell_type": "code",
   "execution_count": 1,
   "metadata": {},
   "outputs": [],
   "source": [
    "import numpy as np\n",
    "from PIL import Image\n",
    "from skimage import measure\n",
    "from matplotlib import pyplot as plt"
   ]
  },
  {
   "cell_type": "code",
   "execution_count": 2,
   "metadata": {},
   "outputs": [],
   "source": [
    "testim= np.asarray(Image.open('/media/sgr/storage/cob_tf/demo/test_segm.png'))\n",
    "_=testim[:,:,0]*1000000+testim[:,:,1]*1000+testim[:,:,2]\n",
    "all_labels=measure.label(_)"
   ]
  },
  {
   "cell_type": "code",
   "execution_count": 245,
   "metadata": {},
   "outputs": [
    {
     "data": {
      "text/plain": [
       "<matplotlib.image.AxesImage at 0x7fcb6d49bdd8>"
      ]
     },
     "execution_count": 245,
     "metadata": {},
     "output_type": "execute_result"
    },
    {
     "data": {
      "image/png": "[encoded data removed]",
      "text/plain": [
       "<Figure size 432x288 with 1 Axes>"
      ]
     },
     "metadata": {
      "needs_background": "light"
     },
     "output_type": "display_data"
    }
   ],
   "source": [
    "plt.imshow(all_labels)"
   ]
  },
  {
   "cell_type": "code",
   "execution_count": 232,
   "metadata": {},
   "outputs": [],
   "source": [
    "def get_board(segmented):\n",
    "    \"return boarder's length\" \n",
    "    from scipy.signal import correlate2d\n",
    "    kernel=[[0,1,0],[1,0,1],[0,1,0]]\n",
    "    outlist={}\n",
    "    for idx in np.unique(segmented):    \n",
    "        corr=correlate2d((segmented==idx),kernel,mode='same')\n",
    "        bord=corr*(segmented!=idx)        \n",
    "        outlist[idx]= [(zone,np.sum(bord[(segmented==zone) & (bord>0)])) for zone in np.unique(segmented[bord>0])]\n",
    "    return outlist"
   ]
  },
  {
   "cell_type": "code",
   "execution_count": 239,
   "metadata": {},
   "outputs": [
    {
     "name": "stdout",
     "output_type": "stream",
     "text": [
      "CPU times: user 18.3 ms, sys: 45 µs, total: 18.4 ms\n",
      "Wall time: 16.8 ms\n"
     ]
    },
    {
     "data": {
      "text/plain": [
       "{0: [(1, 21), (3, 12), (6, 27), (7, 19), (9, 15)],\n",
       " 1: [(0, 21), (2, 31), (3, 9), (5, 8), (6, 32)],\n",
       " 2: [(1, 31), (4, 110), (5, 4), (6, 110), (11, 38), (14, 23)],\n",
       " 3: [(0, 12), (1, 9), (6, 11)],\n",
       " 4: [(2, 110), (10, 16), (11, 34), (12, 11)],\n",
       " 5: [(1, 8), (2, 4), (6, 4)],\n",
       " 6: [(0, 27), (1, 32), (2, 110), (3, 11), (5, 4), (8, 16), (9, 53), (14, 35)],\n",
       " 7: [(0, 19), (9, 16)],\n",
       " 8: [(6, 16)],\n",
       " 9: [(0, 15), (6, 53), (7, 16), (13, 12), (14, 34)],\n",
       " 10: [(4, 16)],\n",
       " 11: [(2, 38), (4, 34), (12, 27)],\n",
       " 12: [(4, 11), (11, 27)],\n",
       " 13: [(9, 12), (14, 10)],\n",
       " 14: [(2, 23), (6, 35), (9, 34), (13, 10), (15, 16)],\n",
       " 15: [(14, 16)]}"
      ]
     },
     "execution_count": 239,
     "metadata": {},
     "output_type": "execute_result"
    }
   ],
   "source": [
    "%time get_board(all_labels)"
   ]
  },
  {
   "cell_type": "code",
   "execution_count": 247,
   "metadata": {},
   "outputs": [],
   "source": [
    "jj= get_board(all_labels)\n",
    "outdict={}\n",
    "for key in jj:\n",
    "    for kk, lent in jj[key]:\n",
    "        if kk>key:\n",
    "            outdict[(key, kk)]=lent"
   ]
  },
  {
   "cell_type": "code",
   "execution_count": 248,
   "metadata": {},
   "outputs": [
    {
     "data": {
      "text/plain": [
       "{(0, 1): 21,\n",
       " (0, 3): 12,\n",
       " (0, 6): 27,\n",
       " (0, 7): 19,\n",
       " (0, 9): 15,\n",
       " (1, 2): 31,\n",
       " (1, 3): 9,\n",
       " (1, 5): 8,\n",
       " (1, 6): 32,\n",
       " (2, 4): 110,\n",
       " (2, 5): 4,\n",
       " (2, 6): 110,\n",
       " (2, 11): 38,\n",
       " (2, 14): 23,\n",
       " (3, 6): 11,\n",
       " (4, 10): 16,\n",
       " (4, 11): 34,\n",
       " (4, 12): 11,\n",
       " (5, 6): 4,\n",
       " (6, 8): 16,\n",
       " (6, 9): 53,\n",
       " (6, 14): 35,\n",
       " (7, 9): 16,\n",
       " (9, 13): 12,\n",
       " (9, 14): 34,\n",
       " (11, 12): 27,\n",
       " (13, 14): 10,\n",
       " (14, 15): 16}"
      ]
     },
     "execution_count": 248,
     "metadata": {},
     "output_type": "execute_result"
    }
   ],
   "source": [
    "outdict"
   ]
  },
  {
   "cell_type": "code",
   "execution_count": null,
   "metadata": {},
   "outputs": [],
   "source": []
  },
  {
   "cell_type": "code",
   "execution_count": 240,
   "metadata": {},
   "outputs": [],
   "source": [
    "def clear_segment_map(segment_map, image, area_thresh=5):\n",
    "    '''\n",
    "    segment_map - indexed connected pixels groups where 0 - labeling masked area\n",
    "    '''\n",
    "    from skimage import measure\n",
    "    from scipy import ndimage\n",
    "    import pandas as pd    \n",
    "    h,w,d=image.shape    \n",
    "    index, reg_area = np.unique(segment_map,return_counts=True)    \n",
    "    \n",
    "    coord_lists=[(segment_map.ravel()==ind).nonzero()[0] for ind in index] \n",
    "    \n",
    "    region_means=[np.array(i) for i in zip(*[ndimage.mean(image[:,:,band], labels=segment_map, index=index) for band in range(d)])]    \n",
    "    return pd.DataFrame({'index':index, 'area':reg_area, 'pixels':coord_lists, 'features':region_means})   \n",
    "#     return {'index':index, 'area':reg_area, 'pixels':coord_lists, 'features':region_means}  "
   ]
  },
  {
   "cell_type": "code",
   "execution_count": 246,
   "metadata": {},
   "outputs": [
    {
     "data": {
      "text/html": [
       "<div>\n",
       "<style scoped>\n",
       "    .dataframe tbody tr th:only-of-type {\n",
       "        vertical-align: middle;\n",
       "    }\n",
       "\n",
       "    .dataframe tbody tr th {\n",
       "        vertical-align: top;\n",
       "    }\n",
       "\n",
       "    .dataframe thead th {\n",
       "        text-align: right;\n",
       "    }\n",
       "</style>\n",
       "<table border=\"1\" class=\"dataframe\">\n",
       "  <thead>\n",
       "    <tr style=\"text-align: right;\">\n",
       "      <th></th>\n",
       "      <th>index</th>\n",
       "      <th>area</th>\n",
       "      <th>pixels</th>\n",
       "      <th>features</th>\n",
       "    </tr>\n",
       "  </thead>\n",
       "  <tbody>\n",
       "    <tr>\n",
       "      <th>3</th>\n",
       "      <td>3</td>\n",
       "      <td>46</td>\n",
       "      <td>[1653, 1654, 1655, 1752, 1753, 1754, 1755, 175...</td>\n",
       "      <td>[49.0, 150.0, 32.0]</td>\n",
       "    </tr>\n",
       "    <tr>\n",
       "      <th>5</th>\n",
       "      <td>5</td>\n",
       "      <td>12</td>\n",
       "      <td>[2117, 2118, 2216, 2217, 2218, 2219, 2316, 231...</td>\n",
       "      <td>[72.0, 69.0, 17.0]</td>\n",
       "    </tr>\n",
       "    <tr>\n",
       "      <th>7</th>\n",
       "      <td>7</td>\n",
       "      <td>81</td>\n",
       "      <td>[2497, 2498, 2499, 2596, 2597, 2598, 2599, 269...</td>\n",
       "      <td>[49.0, 150.0, 32.0]</td>\n",
       "    </tr>\n",
       "    <tr>\n",
       "      <th>8</th>\n",
       "      <td>8</td>\n",
       "      <td>12</td>\n",
       "      <td>[3136, 3137, 3235, 3236, 3237, 3238, 3335, 333...</td>\n",
       "      <td>[72.0, 69.0, 17.0]</td>\n",
       "    </tr>\n",
       "    <tr>\n",
       "      <th>10</th>\n",
       "      <td>10</td>\n",
       "      <td>12</td>\n",
       "      <td>[4611, 4612, 4710, 4711, 4712, 4713, 4810, 481...</td>\n",
       "      <td>[49.0, 150.0, 32.0]</td>\n",
       "    </tr>\n",
       "    <tr>\n",
       "      <th>12</th>\n",
       "      <td>12</td>\n",
       "      <td>51</td>\n",
       "      <td>[6110, 6111, 6112, 6113, 6209, 6210, 6211, 621...</td>\n",
       "      <td>[49.0, 150.0, 32.0]</td>\n",
       "    </tr>\n",
       "    <tr>\n",
       "      <th>13</th>\n",
       "      <td>13</td>\n",
       "      <td>24</td>\n",
       "      <td>[6188, 6189, 6190, 6191, 6192, 6287, 6288, 628...</td>\n",
       "      <td>[72.0, 69.0, 17.0]</td>\n",
       "    </tr>\n",
       "    <tr>\n",
       "      <th>15</th>\n",
       "      <td>15</td>\n",
       "      <td>12</td>\n",
       "      <td>[8078, 8079, 8177, 8178, 8179, 8180, 8277, 827...</td>\n",
       "      <td>[72.0, 69.0, 17.0]</td>\n",
       "    </tr>\n",
       "  </tbody>\n",
       "</table>\n",
       "</div>"
      ],
      "text/plain": [
       "    index  area                                             pixels  \\\n",
       "3       3    46  [1653, 1654, 1655, 1752, 1753, 1754, 1755, 175...   \n",
       "5       5    12  [2117, 2118, 2216, 2217, 2218, 2219, 2316, 231...   \n",
       "7       7    81  [2497, 2498, 2499, 2596, 2597, 2598, 2599, 269...   \n",
       "8       8    12  [3136, 3137, 3235, 3236, 3237, 3238, 3335, 333...   \n",
       "10     10    12  [4611, 4612, 4710, 4711, 4712, 4713, 4810, 481...   \n",
       "12     12    51  [6110, 6111, 6112, 6113, 6209, 6210, 6211, 621...   \n",
       "13     13    24  [6188, 6189, 6190, 6191, 6192, 6287, 6288, 628...   \n",
       "15     15    12  [8078, 8079, 8177, 8178, 8179, 8180, 8277, 827...   \n",
       "\n",
       "               features  \n",
       "3   [49.0, 150.0, 32.0]  \n",
       "5    [72.0, 69.0, 17.0]  \n",
       "7   [49.0, 150.0, 32.0]  \n",
       "8    [72.0, 69.0, 17.0]  \n",
       "10  [49.0, 150.0, 32.0]  \n",
       "12  [49.0, 150.0, 32.0]  \n",
       "13   [72.0, 69.0, 17.0]  \n",
       "15   [72.0, 69.0, 17.0]  "
      ]
     },
     "execution_count": 246,
     "metadata": {},
     "output_type": "execute_result"
    }
   ],
   "source": [
    "hhh=clear_segment_map(all_labels, testim)\n",
    "hhh[hhh['area']<100]"
   ]
  }
 ],
 "metadata": {
  "kernelspec": {
   "display_name": "Python 3",
   "language": "python",
   "name": "python3"
  },
  "language_info": {
   "codemirror_mode": {
    "name": "ipython",
    "version": 3
   },
   "file_extension": ".py",
   "mimetype": "text/x-python",
   "name": "python",
   "nbconvert_exporter": "python",
   "pygments_lexer": "ipython3",
   "version": "3.7.0"
  }
 },
 "nbformat": 4,
 "nbformat_minor": 4
}
