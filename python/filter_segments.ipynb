{
 "cells": [
  {
   "cell_type": "code",
   "execution_count": 1,
   "metadata": {},
   "outputs": [],
   "source": [
    "import numpy as np\n",
    "from PIL import Image\n",
    "from skimage import measure\n",
    "from matplotlib import pyplot as plt"
   ]
  },
  {
   "cell_type": "code",
   "execution_count": 2,
   "metadata": {},
   "outputs": [],
   "source": [
    "testim= np.asarray(Image.open('/media/sgr/storage/cob_tf/demo/test_segm.png'))\n",
    "_=testim[:,:,0]*1000000+testim[:,:,1]*1000+testim[:,:,2]\n",
    "all_labels=measure.label(_)"
   ]
  },
  {
   "cell_type": "code",
   "execution_count": 116,
   "metadata": {},
   "outputs": [
    {
     "data": {
      "text/plain": [
       "<matplotlib.image.AxesImage at 0x7fd664c19f98>"
      ]
     },
     "execution_count": 116,
     "metadata": {},
     "output_type": "execute_result"
    },
    {
     "data": {
      "image/png": "[encoded data removed]",
      "text/plain": [
       "<Figure size 432x288 with 1 Axes>"
      ]
     },
     "metadata": {
      "needs_background": "light"
     },
     "output_type": "display_data"
    }
   ],
   "source": [
    "plt.imshow(all_labels)"
   ]
  },
  {
   "cell_type": "code",
   "execution_count": null,
   "metadata": {},
   "outputs": [],
   "source": []
  },
  {
   "cell_type": "code",
   "execution_count": 105,
   "metadata": {},
   "outputs": [],
   "source": [
    "def get_segments_table(segment_map, image):\n",
    "    '''\n",
    "    segment_map - indexed connected pixels groups where 0 - labeling masked area\n",
    "    '''\n",
    "    from skimage import measure\n",
    "    from scipy import ndimage\n",
    "    import pandas as pd    \n",
    "    h,w,d=image.shape    \n",
    "    index, reg_area = np.unique(segment_map,return_counts=True)    \n",
    "    \n",
    "    coord_lists=[(segment_map.ravel()==ind).nonzero()[0] for ind in index] \n",
    "    \n",
    "    region_means=[np.array(i) for i in zip(*[ndimage.mean(image[:,:,band], labels=segment_map, index=index) for band in range(d)])]    \n",
    "    return {index[i]: [reg_area[i], region_means[i]] for i in range (len(index))}\n",
    "\n",
    "def get_board(segmented):\n",
    "    \"return boarder's length\" \n",
    "    from scipy.signal import correlate2d\n",
    "    kernel=[[0,1,0],[1,0,1],[0,1,0]]\n",
    "    outlist={}\n",
    "    for idx in np.unique(segmented):    \n",
    "        corr=correlate2d((segmented==idx),kernel,mode='same')\n",
    "        bord=corr*(segmented!=idx)        \n",
    "        outlist[idx]= [(zone,np.sum(bord[(segmented==zone) & (bord>0)])) for zone in np.unique(segmented[bord>0])]\n",
    "    return outlist\n",
    "\n",
    "def get_dist(fv1,fv2):\n",
    "    return np.sum((fv1-fv2)**2)\n",
    "\n",
    "def get_neighbs_table(all_labels, thresh=100, zero_is_mask=True):\n",
    "    thresh=thresh\n",
    "    jj= get_board(all_labels)\n",
    "    outdict={}\n",
    "    for key in jj:\n",
    "        if key==0 and zero_is_mask:\n",
    "            continue\n",
    "        for kk, lent in jj[key]:\n",
    "            if kk==0 and zero_is_mask:\n",
    "                continue\n",
    "            areas=np.array([hhh[key][0],hhh[kk][0]])     \n",
    "\n",
    "            if kk>key and np.min(areas)<thresh:\n",
    "                features= np.array([hhh[key][1],hhh[kk][1]]) \n",
    "                dist=get_dist(*features)\n",
    "                metr=(np.sum(areas)/np.prod(areas))*dist/lent\n",
    "                outdict[(key, kk)]=[metr,lent]\n",
    "    return outdict\n",
    "\n",
    "def clear_merger (merge_list):\n",
    "    merger=[[],[]]\n",
    "    for i in merge_list[::-1]:\n",
    "        if i[0] in merger[1]:            \n",
    "            merger[0].append(merger[0][merger[1].index(i[0])])\n",
    "            merger[1].append(i[1])\n",
    "        else: \n",
    "            merger[0].append(i[0])\n",
    "            merger[1].append(i[1])\n",
    "    return merger\n",
    "\n",
    "def get_clear_segm(all_labels, testim, thresh=100, zero_is_mask=True):\n",
    "    hhh=get_segments_table(all_labels, testim)\n",
    "    outdict=get_neighbs_table(all_labels, thresh, zero_is_mask)\n",
    "    merger=[]\n",
    "    \n",
    "    while len(outdict)>0:\n",
    "        minind=np.argmin(np.array(list(outdict.values()))[:,0])\n",
    "        minpair=list(outdict.keys())[minind]\n",
    "        merger.append(minpair)\n",
    "\n",
    "        p,q=minpair\n",
    "        ap, fp=hhh[p]\n",
    "        aq, fq=hhh[q]\n",
    "        hhh[p]=[ap+aq, (ap*fp+aq*fq)/(ap+aq)]\n",
    "\n",
    "\n",
    "        for pair in [pair for pair in outdict if q in pair]:    \n",
    "            pair_new = tuple([p if x==q else x for x in pair])\n",
    "            if pair_new[0]==pair_new[1]: # выкинули старую пару\n",
    "                outdict.pop(pair)\n",
    "                continue    \n",
    "            elif outdict.get(pair_new): # если пара с таким индексом уже существует\n",
    "                lent=outdict[pair_new][1]+outdict[pair][1]        \n",
    "            else: # если такого индекса не существует\n",
    "                lent=outdict[pair][1]\n",
    "                outdict.pop(pair)\n",
    "\n",
    "            key,kk=pair_new\n",
    "\n",
    "            features= np.array([hhh[key][1],hhh[kk][1]]) \n",
    "            dist=get_dist(*features)\n",
    "            areas=np.array([hhh[key][0],hhh[kk][0]])\n",
    "            metr=(np.sum(areas)/np.prod(areas))*dist/lent\n",
    "            outdict[(key, kk)]=[metr,lent] \n",
    "            \n",
    "            if np.min(areas)>thresh:\n",
    "                outdict.pop(pair_new)\n",
    "                \n",
    "    all_label1=np.copy(all_labels)\n",
    "   \n",
    "    for i in zip(*clear_merger(merger)):        \n",
    "        all_label1[all_label1==i[1]]=i[0] \n",
    "    return all_label1"
   ]
  },
  {
   "cell_type": "code",
   "execution_count": 114,
   "metadata": {},
   "outputs": [
    {
     "data": {
      "image/png": "[encoded data removed]",
      "text/plain": [
       "<Figure size 1440x1080 with 4 Axes>"
      ]
     },
     "metadata": {
      "needs_background": "light"
     },
     "output_type": "display_data"
    }
   ],
   "source": [
    "plt.figure(figsize=(20,15))\n",
    "for num, thresh in enumerate([10,100,1000,10000],1):\n",
    "    plt.subplot(1,4,num)\n",
    "    plt.imshow(get_clear_segm(all_labels, testim, thresh))\n",
    "\n",
    "\n",
    "\n",
    "# plt.imshow(get_clear_segm(all_labels, testim, thresh=0))"
   ]
  },
  {
   "cell_type": "code",
   "execution_count": null,
   "metadata": {},
   "outputs": [],
   "source": []
  },
  {
   "cell_type": "code",
   "execution_count": 115,
   "metadata": {},
   "outputs": [
    {
     "name": "stdout",
     "output_type": "stream",
     "text": [
      "6.96 ms ± 7.48 µs per loop (mean ± std. dev. of 7 runs, 100 loops each)\n"
     ]
    }
   ],
   "source": [
    "%timeit get_clear_segm(all_labels, testim, thresh=200)"
   ]
  },
  {
   "cell_type": "code",
   "execution_count": 29,
   "metadata": {},
   "outputs": [],
   "source": [
    "jj= get_board(all_labels)\n",
    "outdict={}\n",
    "for key in jj:\n",
    "    for kk, lent in jj[key]:\n",
    "        if kk>key:\n",
    "            outdict[(key, kk)]=lent"
   ]
  },
  {
   "cell_type": "code",
   "execution_count": 119,
   "metadata": {
    "collapsed": true,
    "jupyter": {
     "outputs_hidden": true
    }
   },
   "outputs": [
    {
     "data": {
      "text/plain": [
       "{(0, 1): 21,\n",
       " (0, 3): 12,\n",
       " (0, 6): 27,\n",
       " (0, 7): 19,\n",
       " (0, 9): 15,\n",
       " (1, 2): 31,\n",
       " (1, 3): 9,\n",
       " (1, 5): 8,\n",
       " (1, 6): 32,\n",
       " (2, 4): 110,\n",
       " (2, 5): 4,\n",
       " (2, 6): 110,\n",
       " (2, 11): 38,\n",
       " (2, 14): 23,\n",
       " (3, 6): 11,\n",
       " (4, 10): 16,\n",
       " (4, 11): 34,\n",
       " (4, 12): 11,\n",
       " (5, 6): 4,\n",
       " (6, 8): 16,\n",
       " (6, 9): 53,\n",
       " (6, 14): 35,\n",
       " (7, 9): 16,\n",
       " (9, 13): 12,\n",
       " (9, 14): 34,\n",
       " (11, 12): 27,\n",
       " (13, 14): 10,\n",
       " (14, 15): 16}"
      ]
     },
     "execution_count": 119,
     "metadata": {},
     "output_type": "execute_result"
    }
   ],
   "source": [
    "outdict"
   ]
  },
  {
   "cell_type": "code",
   "execution_count": null,
   "metadata": {},
   "outputs": [],
   "source": []
  },
  {
   "cell_type": "code",
   "execution_count": 30,
   "metadata": {},
   "outputs": [],
   "source": [
    "def clear_segment_map(segment_map, image, area_thresh=5):\n",
    "    '''\n",
    "    segment_map - indexed connected pixels groups where 0 - labeling masked area\n",
    "    '''\n",
    "    from skimage import measure\n",
    "    from scipy import ndimage\n",
    "    import pandas as pd    \n",
    "    h,w,d=image.shape    \n",
    "    index, reg_area = np.unique(segment_map,return_counts=True)    \n",
    "    \n",
    "    coord_lists=[(segment_map.ravel()==ind).nonzero()[0] for ind in index] \n",
    "    \n",
    "    region_means=[np.array(i) for i in zip(*[ndimage.mean(image[:,:,band], labels=segment_map, index=index) for band in range(d)])]    \n",
    "    return {index[i]: [reg_area[i], region_means[i]] for i in range (len(index))}\n",
    "\n",
    "#     return pd.DataFrame({'index':index, 'area':reg_area, 'pixels':coord_lists, 'features':region_means})   \n",
    "#     return {'index':index, 'area':reg_area, 'pixels':coord_lists, 'features':region_means}  "
   ]
  },
  {
   "cell_type": "code",
   "execution_count": 31,
   "metadata": {
    "collapsed": true,
    "jupyter": {
     "outputs_hidden": true
    }
   },
   "outputs": [
    {
     "data": {
      "text/plain": [
       "{0: [1304, array([0., 0., 0.])],\n",
       " 1: [962, array([56., 52., 39.])],\n",
       " 2: [1318, array([39., 39., 56.])],\n",
       " 3: [46, array([ 49., 150.,  32.])],\n",
       " 4: [990, array([44., 48., 37.])],\n",
       " 5: [12, array([72., 69., 17.])],\n",
       " 6: [1228, array([44., 56., 39.])],\n",
       " 7: [81, array([ 49., 150.,  32.])],\n",
       " 8: [12, array([72., 69., 17.])],\n",
       " 9: [1156, array([91., 76., 29.])],\n",
       " 10: [12, array([ 49., 150.,  32.])],\n",
       " 11: [1187, array([38., 43., 31.])],\n",
       " 12: [51, array([ 49., 150.,  32.])],\n",
       " 13: [24, array([72., 69., 17.])],\n",
       " 14: [1605, array([56., 52., 39.])],\n",
       " 15: [12, array([72., 69., 17.])]}"
      ]
     },
     "execution_count": 31,
     "metadata": {},
     "output_type": "execute_result"
    }
   ],
   "source": [
    "hhh=clear_segment_map(all_labels, testim)\n",
    "hhh"
   ]
  },
  {
   "cell_type": "code",
   "execution_count": 32,
   "metadata": {},
   "outputs": [],
   "source": [
    "def get_dist(fv1,fv2):\n",
    "    return np.sum((fv1-fv2)**2)\n",
    "\n",
    "thresh=100\n",
    "jj= get_board(all_labels)\n",
    "outdict={}\n",
    "for key in jj:\n",
    "    for kk, lent in jj[key]:\n",
    "        areas=np.array([hhh[key][0],hhh[kk][0]])      \n",
    "        \n",
    "        \n",
    "        if kk>key and np.min(areas)<thresh:\n",
    "            features= np.array([hhh[key][1],hhh[kk][1]])           \n",
    "            \n",
    "#             features= hhh[hhh['id'].isin([key, kk])]['features'].values\n",
    "            dist=get_dist(*features)\n",
    "            metr=(np.sum(areas)/np.prod(areas))*dist/lent\n",
    "#             outdict[(key, kk)]=[list(areas),metr,lent]\n",
    "            outdict[(key, kk)]=[metr,lent]"
   ]
  },
  {
   "cell_type": "code",
   "execution_count": 33,
   "metadata": {
    "collapsed": true,
    "jupyter": {
     "outputs_hidden": true
    }
   },
   "outputs": [
    {
     "data": {
      "text/plain": [
       "{(0, 3): [48.62234095758868, 12],\n",
       " (0, 7): [17.891729650757203, 19],\n",
       " (1, 3): [24.55536472927777, 9],\n",
       " (1, 5): [10.85245582120582, 8],\n",
       " (2, 5): [73.79078148710167, 4],\n",
       " (3, 6): [18.268304772695085, 11],\n",
       " (4, 10): [55.10789141414141, 16],\n",
       " (4, 12): [19.594544374223517, 11],\n",
       " (5, 6): [30.23004885993485, 4],\n",
       " (6, 8): [7.557512214983713, 16],\n",
       " (7, 9): [5.985286775385536, 16],\n",
       " (9, 13): [1.9635476739715492, 12],\n",
       " (11, 12): [8.764091015044977, 27],\n",
       " (13, 14): [4.351612149532711, 10],\n",
       " (14, 15): [5.399445093457944, 16]}"
      ]
     },
     "execution_count": 33,
     "metadata": {},
     "output_type": "execute_result"
    }
   ],
   "source": [
    "outdict"
   ]
  },
  {
   "cell_type": "code",
   "execution_count": 34,
   "metadata": {},
   "outputs": [],
   "source": [
    "while len(outdict)>0:\n",
    "    minind=np.argmin(np.array(list(outdict.values()))[:,0])\n",
    "    minpair=list(outdict.keys())[minind]\n",
    "    merger.append(minpair)\n",
    "\n",
    "    p,q=minpair\n",
    "    ap, fp=hhh[p]\n",
    "    aq, fq=hhh[q]\n",
    "    hhh[p]=[ap+aq, (ap*fp+aq*fq)/(ap+aq)]\n",
    "\n",
    "\n",
    "    for pair in [pair for pair in outdict if q in pair]:    \n",
    "        pair_new = tuple([p if x==q else x for x in pair])\n",
    "        if pair_new[0]==pair_new[1]: # выкинули старую пару\n",
    "            outdict.pop(pair)\n",
    "            continue    \n",
    "        elif outdict.get(pair_new): # если пара с таким индексом уже существует\n",
    "            lent=outdict[pair_new][1]+outdict[pair][1]        \n",
    "        else: # если такого индекса не существует\n",
    "            lent=outdict[pair][1]\n",
    "            outdict.pop(pair)\n",
    "\n",
    "        key,kk=pair_new\n",
    "\n",
    "        features= np.array([hhh[key][1],hhh[kk][1]]) \n",
    "        dist=get_dist(*features)\n",
    "        metr=(np.sum(areas)/np.prod(areas))*dist/lent\n",
    "        outdict[(key, kk)]=[metr,lent] \n",
    "        areas=np.array([hhh[key][0],hhh[kk][0]])\n",
    "        if np.min(areas)>thresh:\n",
    "            outdict.pop(pair_new)\n"
   ]
  },
  {
   "cell_type": "code",
   "execution_count": 22,
   "metadata": {},
   "outputs": [],
   "source": [
    "# np.fromiter(outdict.values(), dtype=float)\n",
    "minind=np.argmin(np.array(list(outdict.values()))[:,0])\n",
    "minpair=list(outdict.keys())[minind]\n",
    "merger.append(minpair)\n",
    "# np.fromiter(outdict.values(), dtype=float)"
   ]
  },
  {
   "cell_type": "code",
   "execution_count": 23,
   "metadata": {},
   "outputs": [],
   "source": [
    "p,q=minpair\n",
    "ap, fp=hhh[p]\n",
    "aq, fq=hhh[q]\n",
    "hhh[p]=[ap+aq, (ap*fp+aq*fq)/(ap+aq)]"
   ]
  },
  {
   "cell_type": "code",
   "execution_count": 24,
   "metadata": {},
   "outputs": [],
   "source": [
    "for pair in [pair for pair in outdict if q in pair]:    \n",
    "    pair_new = tuple([p if x==q else x for x in pair])\n",
    "    if pair_new[0]==pair_new[1]: # выкинули старую пару\n",
    "        outdict.pop(pair)\n",
    "        continue    \n",
    "    elif outdict.get(pair_new): # если пара с таким индексом уже существует\n",
    "        lent=outdict[pair_new][1]+outdict[pair][1]        \n",
    "    else: # если такого индекса не существует\n",
    "        lent=outdict[pair][1]\n",
    "        outdict.pop(pair)\n",
    "    \n",
    "    key,kk=pair_new\n",
    "      \n",
    "    features= np.array([hhh[key][1],hhh[kk][1]]) \n",
    "    dist=get_dist(*features)\n",
    "    metr=(np.sum(areas)/np.prod(areas))*dist/lent\n",
    "    outdict[(key, kk)]=[metr,lent] \n",
    "    areas=np.array([hhh[key][0],hhh[kk][0]])\n",
    "    if np.min(areas)>thresh:\n",
    "        outdict.pop(pair_new)"
   ]
  },
  {
   "cell_type": "code",
   "execution_count": 38,
   "metadata": {},
   "outputs": [],
   "source": [
    "def clear_merger (merge_list):\n",
    "    merger=[[],[]]\n",
    "    for i in merge_list[::-1]:\n",
    "        if i[0] in merger[1]:            \n",
    "            merger[0].append(merger[0][merger[1].index(i[0])])\n",
    "            merger[1].append(i[1])\n",
    "        else: \n",
    "            merger[0].append(i[0])\n",
    "            merger[1].append(i[1])\n",
    "    return merger"
   ]
  },
  {
   "cell_type": "code",
   "execution_count": 10,
   "metadata": {},
   "outputs": [
    {
     "data": {
      "image/png": "[encoded data removed]",
      "text/plain": [
       "<Figure size 1440x1440 with 10 Axes>"
      ]
     },
     "metadata": {
      "needs_background": "light"
     },
     "output_type": "display_data"
    }
   ],
   "source": [
    "plt.figure(figsize=(20,20))\n",
    "all_label1=np.copy(all_labels)\n",
    "step_gen=(i for i in merger)\n",
    "cntr=1\n",
    "for i in step_gen:\n",
    "    plt.subplot(4,3,cntr)\n",
    "    all_label1[all_label1==i[1]]=i[0]\n",
    "    plt.imshow(all_label1)\n",
    "    cntr+=1"
   ]
  }
 ],
 "metadata": {
  "kernelspec": {
   "display_name": "Python 3",
   "language": "python",
   "name": "python3"
  },
  "language_info": {
   "codemirror_mode": {
    "name": "ipython",
    "version": 3
   },
   "file_extension": ".py",
   "mimetype": "text/x-python",
   "name": "python",
   "nbconvert_exporter": "python",
   "pygments_lexer": "ipython3",
   "version": "3.7.0"
  }
 },
 "nbformat": 4,
 "nbformat_minor": 4
}
